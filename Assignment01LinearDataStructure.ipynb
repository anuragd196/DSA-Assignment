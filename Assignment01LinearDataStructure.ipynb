{
 "cells": [
  {
   "cell_type": "markdown",
   "id": "1f61fa57",
   "metadata": {},
   "source": [
    "### Q1. Write a program to find all pairs of an integer array whose sum is equal to a given number?\n",
    "\n",
    "\n"
   ]
  },
  {
   "cell_type": "code",
   "execution_count": 2,
   "id": "33a43ab0",
   "metadata": {},
   "outputs": [
    {
     "name": "stdout",
     "output_type": "stream",
     "text": [
      "(1, 5)\n",
      "(1, 5)\n",
      "(7, -1)\n"
     ]
    }
   ],
   "source": [
    "def printPairs(arr, n, sum):\n",
    "\n",
    "    for i in range(0, n ):\n",
    "        for j in range(i + 1, n ):\n",
    "            if (arr[i] + arr[j] == sum):\n",
    "                print(\"(\", arr[i],\n",
    "                      \", \", arr[j],\n",
    "                      \")\", sep = \"\")\n",
    " \n",
    " \n",
    "arr = [1, 5, 7, -1, 5]\n",
    "n = len(arr)\n",
    "sum = 6\n",
    "printPairs(arr, n, sum)\n",
    " \n",
    " "
   ]
  },
  {
   "cell_type": "markdown",
   "id": "68d30b53",
   "metadata": {},
   "source": [
    "### Q2. Write a program to reverse an array in place? In place means you cannot create a new array. You have to update the original array.\n",
    "\n",
    " \n",
    "\n"
   ]
  },
  {
   "cell_type": "code",
   "execution_count": 3,
   "id": "a40814f3",
   "metadata": {},
   "outputs": [
    {
     "name": "stdout",
     "output_type": "stream",
     "text": [
      "[1, 2, 3, 4, 5, 6]\n",
      "Reversed list is\n",
      "[6, 5, 4, 3, 2, 1]\n"
     ]
    }
   ],
   "source": [
    "def reverseList(A, start, end):\n",
    "    while start < end:\n",
    "        A[start], A[end] = A[end], A[start]\n",
    "        start += 1\n",
    "        end -= 1\n",
    " \n",
    "A = [1, 2, 3, 4, 5, 6]\n",
    "print(A)\n",
    "reverseList(A, 0, 5)\n",
    "print(\"Reversed list is\")\n",
    "print(A)\n",
    " "
   ]
  },
  {
   "cell_type": "markdown",
   "id": "2a01a974",
   "metadata": {},
   "source": [
    "### Q3. Write a program to check if two strings are a rotation of each other?\n",
    "\n",
    " "
   ]
  },
  {
   "cell_type": "code",
   "execution_count": 52,
   "id": "df103a55",
   "metadata": {},
   "outputs": [
    {
     "name": "stdout",
     "output_type": "stream",
     "text": [
      "Strings are rotations of each other\n"
     ]
    }
   ],
   "source": [
    "def areRotations(string1, string2):\n",
    "    size1 = len(string1)\n",
    "    size2 = len(string2)\n",
    "    temp = ''\n",
    " \n",
    "    \n",
    "    if size1 != size2:\n",
    "        return 0\n",
    " \n",
    "    \n",
    "    temp = string1 + string1\n",
    " \n",
    "    \n",
    "    if (temp.count(string2)> 0):\n",
    "        return 1\n",
    "    else:\n",
    "        return 0\n",
    " \n",
    "\n",
    "string1 = \"AACD\"\n",
    "string2 = \"ACDA\"\n",
    " \n",
    "if areRotations(string1, string2):\n",
    "    print (\"Strings are rotations of each other\")\n",
    "else:\n",
    "    print (\"Strings are not rotations of each other\")"
   ]
  },
  {
   "cell_type": "markdown",
   "id": "6bde4aaf",
   "metadata": {},
   "source": [
    "### Q4. Write a program to print the first non-repeated character from a string?\n",
    "\n"
   ]
  },
  {
   "cell_type": "code",
   "execution_count": 51,
   "id": "ce5a18ca",
   "metadata": {},
   "outputs": [
    {
     "name": "stdout",
     "output_type": "stream",
     "text": [
      "First non-repeating character is f\n"
     ]
    }
   ],
   "source": [
    "import math as mt\n",
    " \n",
    "NO_OF_CHARS = 256\n",
    " \n",
    "'''\n",
    "The function returns index of the first\n",
    "non-repeating character in a string. If\n",
    "all characters are repeating then\n",
    "returns INT_MAX '''\n",
    " \n",
    "def firstNonRepeating(string):\n",
    "    \n",
    "     \n",
    "    arr=[-1 for i in range(NO_OF_CHARS)]\n",
    "     \n",
    "    '''\n",
    "    After below loop, the value of\n",
    "    arr[x] is going to be index of\n",
    "    of x if x appears only once. Else\n",
    "    the value is going to be either\n",
    "    -1 or -2.'''\n",
    "     \n",
    "    for i in range(len(string)):\n",
    "        if arr[ord(string[i])]==-1:\n",
    "            arr[ord(string[i])]=i\n",
    "        else:\n",
    "            arr[ord(string[i])]=-2\n",
    "    res=10**18\n",
    "     \n",
    "    for i in range(NO_OF_CHARS):\n",
    "        '''\n",
    "        If this character occurs only\n",
    "        once and appears before the\n",
    "        current result, then update the\n",
    "        result'''\n",
    "        if arr[i]>=0:\n",
    "            res=min(res,arr[i])\n",
    "    return res\n",
    " \n",
    "  \n",
    "string=\"geeksforgeeks\"\n",
    " \n",
    "index=firstNonRepeating(string)\n",
    " \n",
    "if index==10**18:\n",
    "    print(\"Either all characters are repeating or string is empty\")\n",
    "else:\n",
    "    print(\"First non-repeating character is\",string[index])"
   ]
  },
  {
   "cell_type": "markdown",
   "id": "ad194a5b",
   "metadata": {},
   "source": [
    "### Q5. Read about the Tower of Hanoi algorithm. Write a program to implement it.\n",
    "\n",
    "\n"
   ]
  },
  {
   "cell_type": "code",
   "execution_count": 50,
   "id": "9b150db5",
   "metadata": {},
   "outputs": [
    {
     "name": "stdout",
     "output_type": "stream",
     "text": [
      "Move disk 1 from rod A to rod B\n",
      "Move disk 2 from rod A to rod C\n",
      "Move disk 1 from rod B to rod C\n",
      "Move disk 3 from rod A to rod B\n",
      "Move disk 1 from rod C to rod A\n",
      "Move disk 2 from rod C to rod B\n",
      "Move disk 1 from rod A to rod B\n",
      "Move disk 4 from rod A to rod C\n",
      "Move disk 1 from rod B to rod C\n",
      "Move disk 2 from rod B to rod A\n",
      "Move disk 1 from rod C to rod A\n",
      "Move disk 3 from rod B to rod C\n",
      "Move disk 1 from rod A to rod B\n",
      "Move disk 2 from rod A to rod C\n",
      "Move disk 1 from rod B to rod C\n"
     ]
    }
   ],
   "source": [
    "def TowerOfHanoi(n , from_rod, to_rod, aux_rod):\n",
    "    if n == 0:\n",
    "        return\n",
    "    TowerOfHanoi(n-1, from_rod, aux_rod, to_rod)\n",
    "    print(\"Move disk\",n,\"from rod\",from_rod,\"to rod\",to_rod)\n",
    "    TowerOfHanoi(n-1, aux_rod, to_rod, from_rod)\n",
    "         \n",
    "\n",
    "n = 4\n",
    "TowerOfHanoi(n, 'A', 'C', 'B')"
   ]
  },
  {
   "cell_type": "markdown",
   "id": "cfba0354",
   "metadata": {},
   "source": [
    "### Q6. Read about infix, prefix, and postfix expressions. Write a program to convert postfix to prefix expression.\n",
    "\n",
    "  "
   ]
  },
  {
   "cell_type": "code",
   "execution_count": 34,
   "id": "d46c3772",
   "metadata": {},
   "outputs": [
    {
     "name": "stdout",
     "output_type": "stream",
     "text": [
      "ABC/-AK/L-*\n"
     ]
    }
   ],
   "source": [
    "s = \"*-A/BC-/AKL\"\n",
    " \n",
    "stack = []\n",
    " \n",
    "operators = set(['+', '-', '*', '/', '^'])\n",
    " \n",
    " \n",
    "s = s[::-1]\n",
    "  \n",
    "for i in s:\n",
    " \n",
    "     \n",
    "    if i in operators:\n",
    " \n",
    "        \n",
    "        a = stack.pop()\n",
    "        b = stack.pop()\n",
    " \n",
    "        \n",
    "        temp = a+b+i\n",
    "        stack.append(temp)\n",
    " \n",
    "     \n",
    "    else:\n",
    "        stack.append(i)\n",
    " \n",
    "  \n",
    "print(*stack)"
   ]
  },
  {
   "cell_type": "markdown",
   "id": "4d99bead",
   "metadata": {},
   "source": [
    "### Q8. Write a program to check if all the brackets are closed in a given code snippet.\n",
    "\n"
   ]
  },
  {
   "cell_type": "code",
   "execution_count": 49,
   "id": "e0effc64",
   "metadata": {},
   "outputs": [
    {
     "name": "stdout",
     "output_type": "stream",
     "text": [
      "Balanced\n"
     ]
    }
   ],
   "source": [
    "def areBracketsBalanced(expr):\n",
    "    stack = []\n",
    " \n",
    "    \n",
    "    for char in expr:\n",
    "        if char in [\"(\", \"{\", \"[\"]:\n",
    " \n",
    "             stack.append(char)\n",
    "        else:\n",
    " \n",
    "            \n",
    "            if not stack:\n",
    "                return False\n",
    "            current_char = stack.pop()\n",
    "            if current_char == '(':\n",
    "                if char != \")\":\n",
    "                    return False\n",
    "            if current_char == '{':\n",
    "                if char != \"}\":\n",
    "                    return False\n",
    "            if current_char == '[':\n",
    "                if char != \"]\":\n",
    "                    return False\n",
    " \n",
    "    \n",
    "    if stack:\n",
    "        return False\n",
    "    return True\n",
    " \n",
    " \n",
    "\n",
    "if __name__ == \"__main__\":\n",
    "    expr = \"{()}[]\"\n",
    " \n",
    "    # Function call\n",
    "    if areBracketsBalanced(expr):\n",
    "        print(\"Balanced\")\n",
    "    else:\n",
    "        print(\"Not Balanced\")"
   ]
  },
  {
   "cell_type": "markdown",
   "id": "6ae77f32",
   "metadata": {},
   "source": [
    "### Q9. Write a program to reverse a stack.\n",
    "\n"
   ]
  },
  {
   "cell_type": "code",
   "execution_count": 54,
   "id": "c27af11e",
   "metadata": {},
   "outputs": [
    {
     "name": "stdout",
     "output_type": "stream",
     "text": [
      "Original Stack \n",
      "1 2 3 4 \n",
      "Reversed Stack \n",
      "4 3 2 1 \n"
     ]
    }
   ],
   "source": [
    "def insertAtBottom(stack, item):\n",
    "    if isEmpty(stack):\n",
    "        push(stack, item)\n",
    "    else:\n",
    "        temp = pop(stack)\n",
    "        insertAtBottom(stack, item)\n",
    "        push(stack, temp)\n",
    " \n",
    "\n",
    "def reverse(stack):\n",
    "    if not isEmpty(stack):\n",
    "        temp = pop(stack)\n",
    "        reverse(stack)\n",
    "        insertAtBottom(stack, temp)\n",
    " \n",
    " \n",
    "def createStack():\n",
    "    stack = []\n",
    "    return stack\n",
    " \n",
    "\n",
    "def isEmpty( stack ):\n",
    "    return len(stack) == 0\n",
    " \n",
    "def push( stack, item ):\n",
    "    stack.append( item )\n",
    " \n",
    "\n",
    "\n",
    "def pop( stack ):\n",
    " \n",
    "    # If stack is empty\n",
    "    # then error\n",
    "    if(isEmpty( stack )):\n",
    "        print(\"Stack Underflow \")\n",
    "        exit(1)\n",
    " \n",
    "    return stack.pop()\n",
    " \n",
    "\n",
    "def prints(stack):\n",
    "    for i in range(len(stack)-1, -1, -1):\n",
    "        print(stack[i], end = ' ')\n",
    "    print()\n",
    " \n",
    " \n",
    "stack = createStack()\n",
    "push( stack, str(4) )\n",
    "push( stack, str(3) )\n",
    "push( stack, str(2) )\n",
    "push( stack, str(1) )\n",
    "print(\"Original Stack \")\n",
    "prints(stack)\n",
    " \n",
    "reverse(stack)\n",
    " \n",
    "print(\"Reversed Stack \")\n",
    "prints(stack)\n",
    " \n"
   ]
  },
  {
   "cell_type": "markdown",
   "id": "9b66b4fe",
   "metadata": {},
   "source": [
    "### Q10. Write a program to find the smallest number using a stack.\n",
    "\n"
   ]
  },
  {
   "cell_type": "code",
   "execution_count": 56,
   "id": "8e324eef",
   "metadata": {},
   "outputs": [
    {
     "name": "stdout",
     "output_type": "stream",
     "text": [
      "The smallest element is 1 and  second smallest element is 10\n"
     ]
    }
   ],
   "source": [
    "import math\n",
    " \n",
    "def print2Smallest(arr):\n",
    " \n",
    "    \n",
    "    arr_size = len(arr)\n",
    "    if arr_size < 2:\n",
    "        print (\"Invalid Input\")\n",
    "        return\n",
    " \n",
    "    first = second = math.inf\n",
    "    for i in range(0, arr_size):\n",
    " \n",
    "        \n",
    "        if arr[i] < first:\n",
    "            second = first\n",
    "            first = arr[i]\n",
    " \n",
    "        \n",
    "        elif (arr[i] < second and arr[i] != first):\n",
    "            second = arr[i];\n",
    " \n",
    "    if (second == math.inf):\n",
    "        print (\"No second smallest element\")\n",
    "    else:\n",
    "        print ('The smallest element is',first,'and', \\\n",
    "              ' second smallest element is',second)\n",
    " \n",
    "\n",
    "arr = [12, 13, 1, 10, 34, 1]\n",
    "print2Smallest(arr)\n",
    " \n"
   ]
  }
 ],
 "metadata": {
  "kernelspec": {
   "display_name": "Python 3 (ipykernel)",
   "language": "python",
   "name": "python3"
  },
  "language_info": {
   "codemirror_mode": {
    "name": "ipython",
    "version": 3
   },
   "file_extension": ".py",
   "mimetype": "text/x-python",
   "name": "python",
   "nbconvert_exporter": "python",
   "pygments_lexer": "ipython3",
   "version": "3.9.7"
  }
 },
 "nbformat": 4,
 "nbformat_minor": 5
}
